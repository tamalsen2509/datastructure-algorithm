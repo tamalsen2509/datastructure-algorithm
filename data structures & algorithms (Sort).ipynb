{
 "cells": [
  {
   "cell_type": "code",
   "execution_count": 8,
   "metadata": {},
   "outputs": [
    {
     "name": "stdout",
     "output_type": "stream",
     "text": [
      "4\n"
     ]
    }
   ],
   "source": [
    "def binary_search(list,item):\n",
    "    low= 0\n",
    "    high=len(list)-1\n",
    "    \n",
    "    while low <=high:\n",
    "        mid=(low+high)\n",
    "        guess=list[mid]\n",
    "        if guess == item:\n",
    "            return mid\n",
    "        if guess>item:\n",
    "            high=mid-1\n",
    "        else:\n",
    "            low= mid+1\n",
    "    return None         \n",
    "            \n",
    "    \n",
    "my_list=[1,3,5,7,9]    \n",
    "print(binary_search(my_list,9))\n"
   ]
  },
  {
   "cell_type": "code",
   "execution_count": 7,
   "metadata": {},
   "outputs": [
    {
     "name": "stdout",
     "output_type": "stream",
     "text": [
      "[1, 3, 5, 6, 9]\n"
     ]
    }
   ],
   "source": [
    "# find the smallest elemnet in an array\n",
    "\n",
    "def findsmallest(arr):\n",
    "    smallest=arr[0]\n",
    "    smallest_index=0\n",
    "    for i in range (1,len(arr)):\n",
    "        if arr[i]<smallest:\n",
    "            smallest=arr[i]\n",
    "            smallest_index=i\n",
    "    \n",
    "    return smallest_index\n",
    "\n",
    "\n",
    "# selection sort\n",
    "\n",
    "def selectionSort(arr):\n",
    "    newArr=[]\n",
    "    \n",
    "    for i in range (len(arr)):\n",
    "        smallest=findsmallest(arr)\n",
    "        newArr.append(arr.pop(smallest))\n",
    "    \n",
    "    return newArr\n",
    "    \n",
    "print(selectionSort([5,6,9,1,3]))\n"
   ]
  },
  {
   "cell_type": "code",
   "execution_count": null,
   "metadata": {},
   "outputs": [],
   "source": []
  }
 ],
 "metadata": {
  "kernelspec": {
   "display_name": "Python 3",
   "language": "python",
   "name": "python3"
  },
  "language_info": {
   "codemirror_mode": {
    "name": "ipython",
    "version": 3
   },
   "file_extension": ".py",
   "mimetype": "text/x-python",
   "name": "python",
   "nbconvert_exporter": "python",
   "pygments_lexer": "ipython3",
   "version": "3.7.3"
  }
 },
 "nbformat": 4,
 "nbformat_minor": 2
}
